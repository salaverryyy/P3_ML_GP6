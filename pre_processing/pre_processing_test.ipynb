{
 "cells": [
  {
   "cell_type": "markdown",
   "metadata": {},
   "source": [
    "Pre Procesamiento Test"
   ]
  },
  {
   "cell_type": "code",
   "execution_count": null,
   "metadata": {
    "vscode": {
     "languageId": "plaintext"
    }
   },
   "outputs": [],
   "source": [
    "import os\n",
    "import numpy as np\n",
    "import cv2\n",
    "from tqdm import tqdm\n",
    "\n",
    "# Rutas actualizadas para Test\n",
    "DATASET_PATH = r\"C:\\DAVID\\CS\\2025 0\\machine_learning\\Data_Proyect3\\ISIC2018_Task3_Test_Input\\ISIC2018_Task3_Test_Input\"\n",
    "PREPROCESSED_PATH = r\"C:\\DAVID\\CS\\2025 0\\machine_learning\\Proyecto3\\P3_ML_GP6\\pre_processing\\test\"\n",
    "\n",
    "# Crear carpeta si no existe\n",
    "os.makedirs(PREPROCESSED_PATH, exist_ok=True)\n",
    "\n",
    "# Función para preprocesar imágenes\n",
    "def preprocess_image(image_path, save_path):\n",
    "    # Cargar la imagen en color\n",
    "    image = cv2.imread(image_path)\n",
    "\n",
    "    if image is None:\n",
    "        print(f\"Error: No se pudo cargar {image_path}\")\n",
    "        return\n",
    "    \n",
    "    # Normalizar valores de píxeles a [0,1]\n",
    "    image = image.astype(np.float32) / 255.0\n",
    "\n",
    "    # Guardar la imagen preprocesada como archivo .npy\n",
    "    np.save(save_path, image)\n",
    "\n",
    "# Aplicar preprocesamiento a Test\n",
    "print(f\"⚙️ Preprocesando imágenes de TEST...\")\n",
    "\n",
    "imagenes = sorted([f for f in os.listdir(DATASET_PATH) if f.endswith(\".jpg\")])\n",
    "\n",
    "for file in tqdm(imagenes):\n",
    "    image_path = os.path.join(DATASET_PATH, file)\n",
    "    save_path = os.path.join(PREPROCESSED_PATH, file.replace(\".jpg\", \".npy\"))\n",
    "    preprocess_image(image_path, save_path)\n",
    "\n",
    "print(\"✅ Preprocesamiento de TEST completado.\")\n"
   ]
  }
 ],
 "metadata": {
  "language_info": {
   "name": "python"
  }
 },
 "nbformat": 4,
 "nbformat_minor": 2
}
