{
 "cells": [
  {
   "cell_type": "markdown",
   "metadata": {},
   "source": [
    "Reduccion Dimensionalidad PCA y LDA para Test"
   ]
  },
  {
   "cell_type": "code",
   "execution_count": null,
   "metadata": {},
   "outputs": [],
   "source": [
    "import os\n",
    "import numpy as np\n",
    "import pandas as pd\n",
    "from tqdm import tqdm\n",
    "from sklearn.decomposition import IncrementalPCA\n",
    "from sklearn.discriminant_analysis import LinearDiscriminantAnalysis as LDA\n",
    "\n",
    "# Rutas\n",
    "PREPROCESSED_PATH = r\"C:\\DAVID\\CS\\2025 0\\machine_learning\\P3_ML_GP6\\pre_processing\\test\"\n",
    "OUTPUT_PATH = r\"C:\\DAVID\\CS\\2025 0\\machine_learning\\P3_ML_GP6\\reduced_data\"\n",
    "\n",
    "# Crear carpeta si no existe\n",
    "os.makedirs(OUTPUT_PATH, exist_ok=True)\n",
    "\n",
    "# Cargar componentes de PCA ya entrenados con `train`\n",
    "pca = IncrementalPCA(n_components=50)\n",
    "pca.components_ = np.load(os.path.join(OUTPUT_PATH, \"pca_components.npy\"))\n",
    "\n",
    "# Cargar y reentrenar LDA con los datos de entrenamiento ya reducidos\n",
    "lda = LDA(n_components=6)\n",
    "lda.fit(np.load(os.path.join(OUTPUT_PATH, \"pca_reduced.npy\")),  # Usa el PCA reducido de `train`\n",
    "        np.load(os.path.join(OUTPUT_PATH, \"lda_reduced.npy\")))\n",
    "\n",
    "print(\"⚙️ Aplicando PCA y LDA a Test...\")\n",
    "\n",
    "# Obtener la lista de archivos `.npy`\n",
    "archivos_npy = sorted([f for f in os.listdir(PREPROCESSED_PATH) if f.endswith(\".npy\")])\n",
    "\n",
    "X_reduced_pca = []\n",
    "X_reduced_lda = []\n",
    "\n",
    "for file in tqdm(archivos_npy):\n",
    "    image_path = os.path.join(PREPROCESSED_PATH, file)\n",
    "    img = np.load(image_path).flatten()\n",
    "\n",
    "    # Aplicar PCA\n",
    "    img_pca = pca.transform(img.reshape(1, -1))\n",
    "    X_reduced_pca.append(img_pca)\n",
    "\n",
    "    # Aplicar LDA\n",
    "    img_lda = lda.transform(img_pca)\n",
    "    X_reduced_lda.append(img_lda)\n",
    "\n",
    "# Convertir listas a arrays numpy\n",
    "X_reduced_pca = np.vstack(X_reduced_pca)\n",
    "X_reduced_lda = np.vstack(X_reduced_lda)\n",
    "\n",
    "# Guardar los archivos reducidos\n",
    "np.save(os.path.join(OUTPUT_PATH, \"pca_reduced_test.npy\"), X_reduced_pca)\n",
    "np.save(os.path.join(OUTPUT_PATH, \"lda_reduced_test.npy\"), X_reduced_lda)\n",
    "\n",
    "print(\"✅ Reducción de dimensionalidad para Test completada.\")\n"
   ]
  }
 ],
 "metadata": {
  "kernelspec": {
   "display_name": "Python 3",
   "language": "python",
   "name": "python3"
  },
  "language_info": {
   "name": "python",
   "version": "3.10.1"
  }
 },
 "nbformat": 4,
 "nbformat_minor": 2
}
