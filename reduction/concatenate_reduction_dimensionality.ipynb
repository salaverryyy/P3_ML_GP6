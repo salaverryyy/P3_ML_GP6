{
 "cells": [
  {
   "cell_type": "code",
   "execution_count": 1,
   "metadata": {},
   "outputs": [
    {
     "name": "stdout",
     "output_type": "stream",
     "text": [
      "📥 Cargando y uniendo lotes de PCA...\n",
      "✅ PCA unido y guardado en 'pca_reduced.npy' con forma (10000, 50)\n",
      "📥 Cargando y uniendo lotes de LDA...\n",
      "✅ LDA unido y guardado en 'lda_reduced.npy' con forma (10015, 6)\n"
     ]
    }
   ],
   "source": [
    "import os\n",
    "import numpy as np\n",
    "\n",
    "# Ruta donde se guardaron los archivos reducidos\n",
    "REDUCED_PATH = r\"C:\\DAVID\\CS\\2025 0\\machine_learning\\Proyecto3\\P3_ML_GP6\\reduced_data\"\n",
    "\n",
    "# 🔹 Unir archivos PCA\n",
    "print(\"📥 Cargando y uniendo lotes de PCA...\")\n",
    "pca_files = sorted([f for f in os.listdir(REDUCED_PATH) if f.startswith(\"pca_reduced_batch\")])\n",
    "\n",
    "X_pca = []\n",
    "for file in pca_files:\n",
    "    batch = np.load(os.path.join(REDUCED_PATH, file))\n",
    "    X_pca.append(batch)\n",
    "\n",
    "X_pca = np.vstack(X_pca)\n",
    "np.save(os.path.join(REDUCED_PATH, \"pca_reduced.npy\"), X_pca)\n",
    "print(f\"✅ PCA unido y guardado en 'pca_reduced.npy' con forma {X_pca.shape}\")\n",
    "\n",
    "# 🔹 Unir archivos LDA\n",
    "print(\"📥 Cargando y uniendo lotes de LDA...\")\n",
    "lda_files = sorted([f for f in os.listdir(REDUCED_PATH) if f.startswith(\"lda_reduced_batch\")])\n",
    "\n",
    "X_lda = []\n",
    "for file in lda_files:\n",
    "    batch = np.load(os.path.join(REDUCED_PATH, file))\n",
    "    X_lda.append(batch)\n",
    "\n",
    "X_lda = np.vstack(X_lda)\n",
    "np.save(os.path.join(REDUCED_PATH, \"lda_reduced.npy\"), X_lda)\n",
    "print(f\"✅ LDA unido y guardado en 'lda_reduced.npy' con forma {X_lda.shape}\")\n"
   ]
  },
  {
   "cell_type": "code",
   "execution_count": 3,
   "metadata": {},
   "outputs": [
    {
     "name": "stdout",
     "output_type": "stream",
     "text": [
      "✅ PCA cargado correctamente con forma (10000, 50)\n",
      "✅ LDA cargado correctamente con forma (10015, 6)\n"
     ]
    }
   ],
   "source": [
    "import numpy as np\n",
    "import os\n",
    "\n",
    "# Ruta donde se guardaron los archivos reducidos\n",
    "REDUCED_PATH = r\"C:\\DAVID\\CS\\2025 0\\machine_learning\\Proyecto3\\P3_ML_GP6\\reduced_data\"\n",
    "\n",
    "# Cargar los archivos concatenados\n",
    "pca_path = os.path.join(REDUCED_PATH, \"pca_reduced.npy\")\n",
    "lda_path = os.path.join(REDUCED_PATH, \"lda_reduced.npy\")\n",
    "\n",
    "if os.path.exists(pca_path) and os.path.exists(lda_path):\n",
    "    X_pca = np.load(pca_path)\n",
    "    X_lda = np.load(lda_path)\n",
    "    print(f\"✅ PCA cargado correctamente con forma {X_pca.shape}\")\n",
    "    print(f\"✅ LDA cargado correctamente con forma {X_lda.shape}\")\n",
    "else:\n",
    "    print(\"❌ ERROR: No se encontraron los archivos pca_reduced.npy o lda_reduced.npy.\")\n"
   ]
  }
 ],
 "metadata": {
  "kernelspec": {
   "display_name": "Python 3",
   "language": "python",
   "name": "python3"
  },
  "language_info": {
   "codemirror_mode": {
    "name": "ipython",
    "version": 3
   },
   "file_extension": ".py",
   "mimetype": "text/x-python",
   "name": "python",
   "nbconvert_exporter": "python",
   "pygments_lexer": "ipython3",
   "version": "3.10.1"
  }
 },
 "nbformat": 4,
 "nbformat_minor": 2
}
