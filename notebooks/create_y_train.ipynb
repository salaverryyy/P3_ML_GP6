{
 "cells": [
  {
   "cell_type": "markdown",
   "metadata": {},
   "source": [
    "Crear y_train del csv"
   ]
  },
  {
   "cell_type": "code",
   "execution_count": 2,
   "metadata": {},
   "outputs": [
    {
     "name": "stdout",
     "output_type": "stream",
     "text": [
      "          image  MEL   NV  BCC  AKIEC  BKL   DF  VASC  Unnamed: 8  Unnamed: 9   \n",
      "0  ISIC_0024306  0.0  1.0  0.0    0.0  0.0  0.0   0.0         NaN         NaN  \\\n",
      "1  ISIC_0024307  0.0  1.0  0.0    0.0  0.0  0.0   0.0         NaN         NaN   \n",
      "2  ISIC_0024308  0.0  1.0  0.0    0.0  0.0  0.0   0.0         NaN         NaN   \n",
      "3  ISIC_0024309  0.0  1.0  0.0    0.0  0.0  0.0   0.0         NaN         NaN   \n",
      "4  ISIC_0024310  1.0  0.0  0.0    0.0  0.0  0.0   0.0         NaN         NaN   \n",
      "\n",
      "   Unnamed: 10  \n",
      "0          NaN  \n",
      "1          NaN  \n",
      "2          NaN  \n",
      "3          NaN  \n",
      "4          NaN  \n",
      "image           object\n",
      "MEL            float64\n",
      "NV             float64\n",
      "BCC            float64\n",
      "AKIEC          float64\n",
      "BKL            float64\n",
      "DF             float64\n",
      "VASC           float64\n",
      "Unnamed: 8     float64\n",
      "Unnamed: 9     float64\n",
      "Unnamed: 10    float64\n",
      "dtype: object\n",
      "image              0\n",
      "MEL                0\n",
      "NV                 0\n",
      "BCC                0\n",
      "AKIEC              0\n",
      "BKL                0\n",
      "DF                 0\n",
      "VASC               0\n",
      "Unnamed: 8     10015\n",
      "Unnamed: 9     10015\n",
      "Unnamed: 10    10015\n",
      "dtype: int64\n",
      "✅ Archivo y_train.npy generado correctamente en reduced_data.\n"
     ]
    }
   ],
   "source": [
    "import os\n",
    "import pandas as pd\n",
    "import numpy as np\n",
    "\n",
    "# Ruta del archivo de etiquetas\n",
    "LABELS_FILE = r\"C:\\DAVID\\CS\\2025 0\\machine_learning\\Data_Proyect3\\ISIC2018_Task3_Training_GroundTruth\\ISIC2018_Task3_Training_GroundTruth\\ISIC2018_Task3_Training_GroundTruth.csv\"\n",
    "\n",
    "# Ruta donde guardar el archivo `y_train.npy`\n",
    "OUTPUT_PATH = r\"C:\\DAVID\\CS\\2025 0\\machine_learning\\P3_ML_GP6\\reduced_data\"\n",
    "\n",
    "# Cargar etiquetas con el separador correcto\n",
    "df = pd.read_csv(LABELS_FILE, sep=\";\")  # Usa \";\" si los valores no se separan bien con \",\"\n",
    "\n",
    "# Limpiar los nombres de las columnas por si tienen espacios\n",
    "df.columns = df.columns.str.strip()\n",
    "\n",
    "# Verificar si las columnas numéricas están bien cargadas\n",
    "print(df.head())  # Muestra algunas filas para verificar\n",
    "print(df.dtypes)  # Verifica los tipos de datos\n",
    "\n",
    "# Verificar si hay valores vacíos en las columnas numéricas\n",
    "print(df.isnull().sum())  # Conteo de valores nulos\n",
    "\n",
    "# Obtener la clase con el valor 1 en cada fila (one-hot encoding → etiquetas)\n",
    "df['diagnosis'] = df.iloc[:, 1:].idxmax(axis=1)  \n",
    "\n",
    "# Convertir a numpy array\n",
    "y_train = df['diagnosis'].to_numpy()\n",
    "\n",
    "# Guardar etiquetas en formato numpy\n",
    "np.save(os.path.join(OUTPUT_PATH, \"y_train.npy\"), y_train)\n",
    "\n",
    "print(\"✅ Archivo y_train.npy generado correctamente en reduced_data.\")\n"
   ]
  },
  {
   "cell_type": "markdown",
   "metadata": {},
   "source": [
    "Validacion"
   ]
  },
  {
   "cell_type": "code",
   "execution_count": 4,
   "metadata": {},
   "outputs": [
    {
     "name": "stdout",
     "output_type": "stream",
     "text": [
      "✅ y_train.npy cargado correctamente con 10015 muestras.\n",
      "Ejemplo de etiquetas: ['NV' 'NV' 'NV' 'NV' 'MEL' 'NV' 'BKL' 'MEL' 'NV' 'MEL']\n"
     ]
    }
   ],
   "source": [
    "import numpy as np\n",
    "import os\n",
    "\n",
    "OUTPUT_PATH = r\"C:\\DAVID\\CS\\2025 0\\machine_learning\\P3_ML_GP6\\reduced_data\"\n",
    "\n",
    "# Cargar y verificar el archivo\n",
    "y_train = np.load(os.path.join(OUTPUT_PATH, \"y_train.npy\"), allow_pickle=True)\n",
    "print(f\"✅ y_train.npy cargado correctamente con {y_train.shape[0]} muestras.\")\n",
    "print(\"Ejemplo de etiquetas:\", y_train[:10])  # Muestra las primeras 10 etiquetas\n"
   ]
  }
 ],
 "metadata": {
  "kernelspec": {
   "display_name": "Python 3",
   "language": "python",
   "name": "python3"
  },
  "language_info": {
   "codemirror_mode": {
    "name": "ipython",
    "version": 3
   },
   "file_extension": ".py",
   "mimetype": "text/x-python",
   "name": "python",
   "nbconvert_exporter": "python",
   "pygments_lexer": "ipython3",
   "version": "3.10.1"
  }
 },
 "nbformat": 4,
 "nbformat_minor": 2
}
