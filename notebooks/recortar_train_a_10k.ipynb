{
 "cells": [
  {
   "cell_type": "markdown",
   "metadata": {},
   "source": [
    "Recortar y_train a 10k porque al hacer PCA con Train se usò solo 10k y no 10015 como habia originalmente"
   ]
  },
  {
   "cell_type": "code",
   "execution_count": 1,
   "metadata": {},
   "outputs": [
    {
     "name": "stdout",
     "output_type": "stream",
     "text": [
      "✅ Se recortó y_train.npy a 10000 muestras.\n"
     ]
    }
   ],
   "source": [
    "import numpy as np\n",
    "import os\n",
    "\n",
    "OUTPUT_PATH = r\"C:\\DAVID\\CS\\2025 0\\machine_learning\\P3_ML_GP6\\reduced_data\"\n",
    "\n",
    "# Cargar `y_train.npy`\n",
    "y_train = np.load(os.path.join(OUTPUT_PATH, \"y_train.npy\"), allow_pickle=True)\n",
    "\n",
    "# Recortar las últimas 15 muestras\n",
    "y_train = y_train[:10000]\n",
    "\n",
    "# Sobrescribir el archivo corregido\n",
    "np.save(os.path.join(OUTPUT_PATH, \"y_train.npy\"), y_train)\n",
    "\n",
    "print(f\"✅ Se recortó y_train.npy a {y_train.shape[0]} muestras.\")\n"
   ]
  }
 ],
 "metadata": {
  "kernelspec": {
   "display_name": "Python 3",
   "language": "python",
   "name": "python3"
  },
  "language_info": {
   "codemirror_mode": {
    "name": "ipython",
    "version": 3
   },
   "file_extension": ".py",
   "mimetype": "text/x-python",
   "name": "python",
   "nbconvert_exporter": "python",
   "pygments_lexer": "ipython3",
   "version": "3.10.1"
  }
 },
 "nbformat": 4,
 "nbformat_minor": 2
}
