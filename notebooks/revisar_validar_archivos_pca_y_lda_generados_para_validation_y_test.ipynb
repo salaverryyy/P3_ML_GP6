{
 "cells": [
  {
   "cell_type": "markdown",
   "metadata": {},
   "source": [
    "Verificar archivos y validar sus datos que sean correctos"
   ]
  },
  {
   "cell_type": "code",
   "execution_count": 3,
   "metadata": {},
   "outputs": [
    {
     "name": "stdout",
     "output_type": "stream",
     "text": [
      "\n",
      "📂 Archivo: lda_reduced_validation.npy\n",
      "   🔹 Forma: (193, 6)\n",
      "   🔹 Primeras filas:\n",
      "[[-1.71714115 -0.49498607  0.09135714 -0.36684638  0.79289238 -1.84496232]\n",
      " [ 1.33808993 -0.27224344  0.36734535 -0.2444233   0.23973242  0.32237309]\n",
      " [-3.25441761  2.70149174  0.44237266  0.64631173  0.07372722  0.33385569]\n",
      " [ 1.39321368  0.36417838 -0.26394729  0.26827828 -1.53957514  0.02095351]\n",
      " [ 1.76900108  1.13897312 -0.08403179  0.29878258  0.35732695  0.49018863]]\n",
      "   🔹 Valores nulos: 0\n",
      "--------------------------------------------------\n",
      "\n",
      "📂 Archivo: lda_reduced_test.npy\n",
      "   🔹 Forma: (1512, 6)\n",
      "   🔹 Primeras filas:\n",
      "[[ 0.1835516   0.1381562   0.87652573 -1.3490736  -0.40571818  0.00780483]\n",
      " [-0.02009132  0.1732472  -0.56188205  1.19050985  0.26349447  0.98506649]\n",
      " [-1.98691466  1.35134091  1.66311008 -0.37453209  0.17210101 -0.62868951]\n",
      " [ 0.6434077  -0.63604493 -0.99888042 -1.82780749 -1.692538    0.07065516]\n",
      " [ 0.31873639  1.00522301  0.1609939  -0.12011828  0.57149171  1.94651326]]\n",
      "   🔹 Valores nulos: 0\n",
      "--------------------------------------------------\n"
     ]
    }
   ],
   "source": [
    "import os\n",
    "import numpy as np\n",
    "\n",
    "# 📌 Ruta donde están los archivos\n",
    "OUTPUT_PATH = r\"C:\\DAVID\\CS\\2025 0\\machine_learning\\P3_ML_GP6\\reduced_data\"\n",
    "\n",
    "# 📂 Archivos a validar\n",
    "files_to_check = [\n",
    "    #\"pca_reduced_validation.npy\",\n",
    "    #\"pca_reduced_test.npy\",\n",
    "    \"lda_reduced_validation.npy\",\n",
    "    \"lda_reduced_test.npy\"\n",
    "]\n",
    "\n",
    "# 🔍 Validar cada archivo\n",
    "for file in files_to_check:\n",
    "    file_path = os.path.join(OUTPUT_PATH, file)\n",
    "\n",
    "    if os.path.exists(file_path):\n",
    "        data = np.load(file_path)\n",
    "\n",
    "        print(f\"\\n📂 Archivo: {file}\")\n",
    "        print(f\"   🔹 Forma: {data.shape}\")  # Ver tamaño\n",
    "        print(f\"   🔹 Primeras filas:\\n{data[:5]}\")  # Mostrar primeras 5 filas\n",
    "        print(f\"   🔹 Valores nulos: {np.isnan(data).sum()}\")  # Ver si hay NaN\n",
    "        print(\"-\" * 50)\n",
    "    else:\n",
    "        print(f\"❌ No se encontró el archivo: {file}\")\n"
   ]
  }
 ],
 "metadata": {
  "kernelspec": {
   "display_name": "Python 3",
   "language": "python",
   "name": "python3"
  },
  "language_info": {
   "codemirror_mode": {
    "name": "ipython",
    "version": 3
   },
   "file_extension": ".py",
   "mimetype": "text/x-python",
   "name": "python",
   "nbconvert_exporter": "python",
   "pygments_lexer": "ipython3",
   "version": "3.10.1"
  }
 },
 "nbformat": 4,
 "nbformat_minor": 2
}
